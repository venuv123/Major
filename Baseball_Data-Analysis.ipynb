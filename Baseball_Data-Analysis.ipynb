{
 "cells": [
  {
   "cell_type": "markdown",
   "metadata": {},
   "source": [
    "# Udacity Project - Data Analysis for Baseball Data"
   ]
  },
  {
   "cell_type": "markdown",
   "metadata": {},
   "source": [
    "## Introduction\n",
    "This project is the final project for the Udacity Intro to Data Analysis course (https://www.udacity.com/course/intro-to-data-analysis--ud170)\n",
    "\n",
    "In this Jupyter Notebook we'll be working through analyzing baseball data from 1985 to 2016 to derive interesting insights from the data. \n",
    "The Data Analysis process goes as follows:<br>\n",
    "Questions -----> Wrangle -----> Explore -----> Conclusions -----> Communicate \n",
    "\n",
    "As for the data, we'll be using the The Lahman Baseball Database (source: http://www.seanlahman.com/baseball-archive/statistics/).\n",
    "\n",
    "To start the project let's import the Python libraries NumPy, Pandas, Seaborn, and Matplotlib to make the analysis of our baseball data easier."
   ]
  },
  {
   "cell_type": "code",
   "execution_count": 1,
   "metadata": {
    "collapsed": true
   },
   "outputs": [],
   "source": [
    "# Import NumPy, Panda, Matplotlib, and Seaborn\n",
    "import numpy as np\n",
    "import pandas as pd\n",
    "import matplotlib.pyplot as plt\n",
    "import seaborn as sns"
   ]
  },
  {
   "cell_type": "markdown",
   "metadata": {},
   "source": [
    "## Questions For Analysis"
   ]
  },
  {
   "cell_type": "markdown",
   "metadata": {},
   "source": [
    "First let's come up with questions that we want answered, and then use the data to answer those questions. \n",
    "\n",
    "### Question 1\n",
    "As I am an avid college sports fan (like most students that went to University of Michigan, Go Blue!), I wanted to see which Universities were attended the most by MLB All-Stars. \n",
    "\n",
    "As a note, this isn't a question into causation, i.e. whether attendance at a certain University causes a player to become an All-Star (that's outside of scope for this project). This is just an analysis on which Universities MLB All-Stars attended the most.\n",
    "\n",
    "* Which University did All Stars attend most?"
   ]
  },
  {
   "cell_type": "markdown",
   "metadata": {},
   "source": [
    "### Question 2\n",
    "A general manager and team owner will most likely want to know how much money players will cost them in the future. \n",
    "\n",
    "Let's look at the general salary spend per year and see if it's increasing or decreasing.\n",
    "\n",
    "* How has Total Salary Spend changed each Year?"
   ]
  },
  {
   "cell_type": "markdown",
   "metadata": {},
   "source": [
    "### Question 3\n",
    "I've always found it fascinating that the top players in any sport get paid what seems to be a much larger amount then their fellow colleagues. Even though the skill level between normal players and an All Star doesn't seem as drastic as the pay difference. \n",
    "\n",
    "A question, I'd like to investigate is how much more the average All Star player makes compared to the average of all players in the league.\n",
    "\n",
    "To do this analysis, I want to use the most recent year in the data, which is 2016, and find the difference between the average salary of All Stars and the average salary of all players.\n",
    "\n",
    "* What is the mean Salary of All Stars VS. the mean salary of all players in 2016?"
   ]
  },
  {
   "cell_type": "markdown",
   "metadata": {},
   "source": [
    "## Analysis of which Universities MLB All-Stars attended"
   ]
  },
  {
   "cell_type": "markdown",
   "metadata": {},
   "source": [
    "To get started in answering our question of which Universities are most attended by All-Stars, we will need to first \"wrangle the data\" by bringing the data into our notebook and then cleaning the data so we can begin analysis. \n",
    "\n",
    "We will be using the AllstarFull.csv file from (http://www.seanlahman.com/baseball-archive/statistics/). "
   ]
  },
  {
   "cell_type": "code",
   "execution_count": 2,
   "metadata": {
    "collapsed": false
   },
   "outputs": [
    {
     "data": {
      "text/html": [
       "<div>\n",
       "<style>\n",
       "    .dataframe thead tr:only-child th {\n",
       "        text-align: right;\n",
       "    }\n",
       "\n",
       "    .dataframe thead th {\n",
       "        text-align: left;\n",
       "    }\n",
       "\n",
       "    .dataframe tbody tr th {\n",
       "        vertical-align: top;\n",
       "    }\n",
       "</style>\n",
       "<table border=\"1\" class=\"dataframe\">\n",
       "  <thead>\n",
       "    <tr style=\"text-align: right;\">\n",
       "      <th></th>\n",
       "      <th>playerID</th>\n",
       "      <th>yearID</th>\n",
       "      <th>gameNum</th>\n",
       "      <th>gameID</th>\n",
       "      <th>teamID</th>\n",
       "      <th>lgID</th>\n",
       "      <th>GP</th>\n",
       "      <th>startingPos</th>\n",
       "    </tr>\n",
       "  </thead>\n",
       "  <tbody>\n",
       "    <tr>\n",
       "      <th>0</th>\n",
       "      <td>gomezle01</td>\n",
       "      <td>1933</td>\n",
       "      <td>0</td>\n",
       "      <td>ALS193307060</td>\n",
       "      <td>NYA</td>\n",
       "      <td>AL</td>\n",
       "      <td>1.0</td>\n",
       "      <td>1.0</td>\n",
       "    </tr>\n",
       "    <tr>\n",
       "      <th>1</th>\n",
       "      <td>ferreri01</td>\n",
       "      <td>1933</td>\n",
       "      <td>0</td>\n",
       "      <td>ALS193307060</td>\n",
       "      <td>BOS</td>\n",
       "      <td>AL</td>\n",
       "      <td>1.0</td>\n",
       "      <td>2.0</td>\n",
       "    </tr>\n",
       "    <tr>\n",
       "      <th>2</th>\n",
       "      <td>gehrilo01</td>\n",
       "      <td>1933</td>\n",
       "      <td>0</td>\n",
       "      <td>ALS193307060</td>\n",
       "      <td>NYA</td>\n",
       "      <td>AL</td>\n",
       "      <td>1.0</td>\n",
       "      <td>3.0</td>\n",
       "    </tr>\n",
       "    <tr>\n",
       "      <th>3</th>\n",
       "      <td>gehrich01</td>\n",
       "      <td>1933</td>\n",
       "      <td>0</td>\n",
       "      <td>ALS193307060</td>\n",
       "      <td>DET</td>\n",
       "      <td>AL</td>\n",
       "      <td>1.0</td>\n",
       "      <td>4.0</td>\n",
       "    </tr>\n",
       "    <tr>\n",
       "      <th>4</th>\n",
       "      <td>dykesji01</td>\n",
       "      <td>1933</td>\n",
       "      <td>0</td>\n",
       "      <td>ALS193307060</td>\n",
       "      <td>CHA</td>\n",
       "      <td>AL</td>\n",
       "      <td>1.0</td>\n",
       "      <td>5.0</td>\n",
       "    </tr>\n",
       "  </tbody>\n",
       "</table>\n",
       "</div>"
      ],
      "text/plain": [
       "    playerID  yearID  gameNum        gameID teamID lgID   GP  startingPos\n",
       "0  gomezle01    1933        0  ALS193307060    NYA   AL  1.0          1.0\n",
       "1  ferreri01    1933        0  ALS193307060    BOS   AL  1.0          2.0\n",
       "2  gehrilo01    1933        0  ALS193307060    NYA   AL  1.0          3.0\n",
       "3  gehrich01    1933        0  ALS193307060    DET   AL  1.0          4.0\n",
       "4  dykesji01    1933        0  ALS193307060    CHA   AL  1.0          5.0"
      ]
     },
     "execution_count": 2,
     "metadata": {},
     "output_type": "execute_result"
    }
   ],
   "source": [
    "# Import All-Star Full CSV file\n",
    "allstar_df = pd.read_csv('AllstarFull.csv')\n",
    "\n",
    "# Check to make sure the file loaded properly.\n",
    "allstar_df.head()"
   ]
  },
  {
   "cell_type": "code",
   "execution_count": 3,
   "metadata": {
    "collapsed": false
   },
   "outputs": [
    {
     "data": {
      "text/plain": [
       "playerID          0\n",
       "yearID            0\n",
       "gameNum           0\n",
       "gameID           49\n",
       "teamID            0\n",
       "lgID              0\n",
       "GP               19\n",
       "startingPos    3548\n",
       "dtype: int64"
      ]
     },
     "execution_count": 3,
     "metadata": {},
     "output_type": "execute_result"
    }
   ],
   "source": [
    "# Check to see if we will need to do data cleaning\n",
    "allstar_df.isnull().sum()"
   ]
  },
  {
   "cell_type": "markdown",
   "metadata": {},
   "source": [
    "From looking at the data file, AllstartFull.csv, the data we will be using for analysis, playerID, is clean (0 nulls) so we're good to go on with analysis. If we were to use gameID, then we would need to do some cleaning as there are 49 null values, but as this is not the case for this project we can continue on.\n",
    "\n",
    "Next we'll need the CollegePlaying.csv file from (http://www.seanlahman.com/baseball-archive/statistics/). "
   ]
  },
  {
   "cell_type": "code",
   "execution_count": 4,
   "metadata": {
    "collapsed": false
   },
   "outputs": [
    {
     "data": {
      "text/html": [
       "<div>\n",
       "<style>\n",
       "    .dataframe thead tr:only-child th {\n",
       "        text-align: right;\n",
       "    }\n",
       "\n",
       "    .dataframe thead th {\n",
       "        text-align: left;\n",
       "    }\n",
       "\n",
       "    .dataframe tbody tr th {\n",
       "        vertical-align: top;\n",
       "    }\n",
       "</style>\n",
       "<table border=\"1\" class=\"dataframe\">\n",
       "  <thead>\n",
       "    <tr style=\"text-align: right;\">\n",
       "      <th></th>\n",
       "      <th>playerID</th>\n",
       "      <th>schoolID</th>\n",
       "      <th>yearID</th>\n",
       "    </tr>\n",
       "  </thead>\n",
       "  <tbody>\n",
       "    <tr>\n",
       "      <th>0</th>\n",
       "      <td>aardsda01</td>\n",
       "      <td>pennst</td>\n",
       "      <td>2001</td>\n",
       "    </tr>\n",
       "    <tr>\n",
       "      <th>1</th>\n",
       "      <td>aardsda01</td>\n",
       "      <td>rice</td>\n",
       "      <td>2002</td>\n",
       "    </tr>\n",
       "    <tr>\n",
       "      <th>2</th>\n",
       "      <td>aardsda01</td>\n",
       "      <td>rice</td>\n",
       "      <td>2003</td>\n",
       "    </tr>\n",
       "    <tr>\n",
       "      <th>3</th>\n",
       "      <td>abadan01</td>\n",
       "      <td>gamiddl</td>\n",
       "      <td>1992</td>\n",
       "    </tr>\n",
       "    <tr>\n",
       "      <th>4</th>\n",
       "      <td>abadan01</td>\n",
       "      <td>gamiddl</td>\n",
       "      <td>1993</td>\n",
       "    </tr>\n",
       "  </tbody>\n",
       "</table>\n",
       "</div>"
      ],
      "text/plain": [
       "    playerID schoolID  yearID\n",
       "0  aardsda01   pennst    2001\n",
       "1  aardsda01     rice    2002\n",
       "2  aardsda01     rice    2003\n",
       "3   abadan01  gamiddl    1992\n",
       "4   abadan01  gamiddl    1993"
      ]
     },
     "execution_count": 4,
     "metadata": {},
     "output_type": "execute_result"
    }
   ],
   "source": [
    "# Import College Playing CSV file\n",
    "college_playing_df = pd.read_csv('CollegePlaying.csv')\n",
    "\n",
    "# Check to make sure the file loaded properly\n",
    "college_playing_df.head()"
   ]
  },
  {
   "cell_type": "code",
   "execution_count": 5,
   "metadata": {
    "collapsed": false
   },
   "outputs": [
    {
     "data": {
      "text/plain": [
       "playerID    0\n",
       "schoolID    0\n",
       "yearID      0\n",
       "dtype: int64"
      ]
     },
     "execution_count": 5,
     "metadata": {},
     "output_type": "execute_result"
    }
   ],
   "source": [
    "#check to see if we will need to data cleaning\n",
    "college_playing_df.isnull().sum()"
   ]
  },
  {
   "cell_type": "markdown",
   "metadata": {},
   "source": [
    "From looking at the data file, CollegePlaying.csv, the data for analysis which is playerID and schoolId is clean (0 null values), so we're good to continue on with analysis.\n",
    "\n",
    "Now that we have the two files as Data Frames, allstar_schools_df and collegeplaying_df, we will need to merge these two data frames into one so we can begin to analyze the data."
   ]
  },
  {
   "cell_type": "code",
   "execution_count": 6,
   "metadata": {
    "collapsed": false
   },
   "outputs": [
    {
     "data": {
      "text/html": [
       "<div>\n",
       "<style>\n",
       "    .dataframe thead tr:only-child th {\n",
       "        text-align: right;\n",
       "    }\n",
       "\n",
       "    .dataframe thead th {\n",
       "        text-align: left;\n",
       "    }\n",
       "\n",
       "    .dataframe tbody tr th {\n",
       "        vertical-align: top;\n",
       "    }\n",
       "</style>\n",
       "<table border=\"1\" class=\"dataframe\">\n",
       "  <thead>\n",
       "    <tr style=\"text-align: right;\">\n",
       "      <th></th>\n",
       "      <th>playerID</th>\n",
       "      <th>yearID_x</th>\n",
       "      <th>gameNum</th>\n",
       "      <th>gameID</th>\n",
       "      <th>teamID</th>\n",
       "      <th>lgID</th>\n",
       "      <th>GP</th>\n",
       "      <th>startingPos</th>\n",
       "      <th>schoolID</th>\n",
       "      <th>yearID_y</th>\n",
       "    </tr>\n",
       "  </thead>\n",
       "  <tbody>\n",
       "    <tr>\n",
       "      <th>0</th>\n",
       "      <td>ferreri01</td>\n",
       "      <td>1933</td>\n",
       "      <td>0</td>\n",
       "      <td>ALS193307060</td>\n",
       "      <td>BOS</td>\n",
       "      <td>AL</td>\n",
       "      <td>1.0</td>\n",
       "      <td>2.0</td>\n",
       "      <td>guilfordnc</td>\n",
       "      <td>1924</td>\n",
       "    </tr>\n",
       "    <tr>\n",
       "      <th>24</th>\n",
       "      <td>gehrilo01</td>\n",
       "      <td>1933</td>\n",
       "      <td>0</td>\n",
       "      <td>ALS193307060</td>\n",
       "      <td>NYA</td>\n",
       "      <td>AL</td>\n",
       "      <td>1.0</td>\n",
       "      <td>3.0</td>\n",
       "      <td>columbia</td>\n",
       "      <td>1923</td>\n",
       "    </tr>\n",
       "    <tr>\n",
       "      <th>31</th>\n",
       "      <td>hildeor01</td>\n",
       "      <td>1933</td>\n",
       "      <td>0</td>\n",
       "      <td>ALS193307060</td>\n",
       "      <td>CLE</td>\n",
       "      <td>AL</td>\n",
       "      <td>0.0</td>\n",
       "      <td>NaN</td>\n",
       "      <td>butler</td>\n",
       "      <td>1927</td>\n",
       "    </tr>\n",
       "    <tr>\n",
       "      <th>35</th>\n",
       "      <td>friscfr01</td>\n",
       "      <td>1933</td>\n",
       "      <td>0</td>\n",
       "      <td>ALS193307060</td>\n",
       "      <td>SLN</td>\n",
       "      <td>NL</td>\n",
       "      <td>1.0</td>\n",
       "      <td>4.0</td>\n",
       "      <td>fordham</td>\n",
       "      <td>1919</td>\n",
       "    </tr>\n",
       "    <tr>\n",
       "      <th>38</th>\n",
       "      <td>hartnga01</td>\n",
       "      <td>1933</td>\n",
       "      <td>0</td>\n",
       "      <td>ALS193307060</td>\n",
       "      <td>CHN</td>\n",
       "      <td>NL</td>\n",
       "      <td>1.0</td>\n",
       "      <td>NaN</td>\n",
       "      <td>madeajc</td>\n",
       "      <td>1918</td>\n",
       "    </tr>\n",
       "  </tbody>\n",
       "</table>\n",
       "</div>"
      ],
      "text/plain": [
       "     playerID  yearID_x  gameNum        gameID teamID lgID   GP  startingPos  \\\n",
       "0   ferreri01      1933        0  ALS193307060    BOS   AL  1.0          2.0   \n",
       "24  gehrilo01      1933        0  ALS193307060    NYA   AL  1.0          3.0   \n",
       "31  hildeor01      1933        0  ALS193307060    CLE   AL  0.0          NaN   \n",
       "35  friscfr01      1933        0  ALS193307060    SLN   NL  1.0          4.0   \n",
       "38  hartnga01      1933        0  ALS193307060    CHN   NL  1.0          NaN   \n",
       "\n",
       "      schoolID  yearID_y  \n",
       "0   guilfordnc      1924  \n",
       "24    columbia      1923  \n",
       "31      butler      1927  \n",
       "35     fordham      1919  \n",
       "38     madeajc      1918  "
      ]
     },
     "execution_count": 6,
     "metadata": {},
     "output_type": "execute_result"
    }
   ],
   "source": [
    "# Merge two Data Frames\n",
    "allstar_schools_df = allstar_df.merge(college_playing_df, on='playerID',how='inner')\n",
    "\n",
    "# Make the data frame unique to players and not count the number of All Star appearances\n",
    "allstar_schools_unique_df = allstar_schools_df.drop_duplicates('playerID')\n",
    "\n",
    "# Check to make sure the file merged properly\n",
    "allstar_schools_unique_df.head()"
   ]
  },
  {
   "cell_type": "markdown",
   "metadata": {},
   "source": [
    "To \"explore\" this question, and dive deeper then just returning one school, we can use a bar chart to visually display the top 20 Universities and how many All Stars attended those Universities.\n",
    "\n",
    "To start we're going to need to group the data by the University. Then we will sort the data to see the Universities which were attended the most. "
   ]
  },
  {
   "cell_type": "code",
   "execution_count": 7,
   "metadata": {
    "collapsed": false
   },
   "outputs": [
    {
     "data": {
      "text/plain": [
       "schoolID\n",
       "usc          17\n",
       "arizonast    12\n",
       "texas         9\n",
       "lsu           9\n",
       "michigan      8\n",
       "Name: playerID, dtype: int64"
      ]
     },
     "execution_count": 7,
     "metadata": {},
     "output_type": "execute_result"
    }
   ],
   "source": [
    "# Group By School ID\n",
    "grouped_allstar_schools_unique_df = allstar_schools_unique_df.groupby('schoolID')\n",
    "grouped_school_allstar_series = grouped_allstar_schools_unique_df.count().sort_values('playerID','index',ascending=False)['playerID'].head(20)\n",
    "\n",
    "# Check to make sure our Grouping and Sort worked\n",
    "grouped_school_allstar_series.head()"
   ]
  },
  {
   "cell_type": "markdown",
   "metadata": {},
   "source": [
    "Now that we have the grouped data, we can make our bar graph."
   ]
  },
  {
   "cell_type": "code",
   "execution_count": 8,
   "metadata": {
    "collapsed": false
   },
   "outputs": [
    {
     "name": "stdout",
     "output_type": "stream",
     "text": [
      "Populating the interactive namespace from numpy and matplotlib\n"
     ]
    },
    {
     "data": {
      "text/plain": [
       "<matplotlib.text.Text at 0x110bc4c90>"
      ]
     },
     "execution_count": 8,
     "metadata": {},
     "output_type": "execute_result"
    },
    {
     "data": {
      "image/png": "[encoded data removed]",
      "text/plain": [
       "<matplotlib.figure.Figure at 0x1103dac10>"
      ]
     },
     "metadata": {},
     "output_type": "display_data"
    }
   ],
   "source": [
    "# Create Bar Graph of All-Stars by University\n",
    "%pylab inline\n",
    "grouped_school_allstar_graph = grouped_school_allstar_series.plot(kind='bar', ax=None, figsize=None, use_index=True, title='Number of All Stars By University', grid=None, legend=False, style=None, logx=False, logy=False, loglog=False, xticks=None, yticks=None, xlim=None, ylim=None, rot=None, fontsize=None, colormap=None, table=False, yerr=None, xerr=None, label=None, secondary_y=False)\n",
    "grouped_school_allstar_graph.set_xlabel('University')\n",
    "grouped_school_allstar_graph.set_ylabel('Number of All Stars')"
   ]
  },
  {
   "cell_type": "markdown",
   "metadata": {},
   "source": [
    "This is great! As we can see USC was the most attended by All Star MLB players. Arizona State came second, with my alma mater University of Michigan finished tied for 5th.\n",
    "\n",
    "For further analysis, as some All Stars didn't go to a University before entering the league, it would be interesting to see how ratio of All Star's that attended Universities compare to All Stars that didn't attend a University.\n",
    "\n",
    "Let's actually dive into this follow up question. What is the total number of All Stars that attended a University vs. the total number of All Stars that did not attend a University."
   ]
  },
  {
   "cell_type": "code",
   "execution_count": 9,
   "metadata": {
    "collapsed": false
   },
   "outputs": [
    {
     "name": "stdout",
     "output_type": "stream",
     "text": [
      "Number of All Stars that attended a University: 642\n"
     ]
    }
   ],
   "source": [
    "# All-Stars that Attended a University\n",
    "all_stars_attended_university_number = allstar_schools_unique_df.count()[\"playerID\"]\n",
    "print(\"Number of All Stars that attended a University: \" + str(all_stars_attended_university_number))"
   ]
  },
  {
   "cell_type": "code",
   "execution_count": 10,
   "metadata": {
    "collapsed": false
   },
   "outputs": [
    {
     "name": "stdout",
     "output_type": "stream",
     "text": [
      "Number of All Stars that did not attend a University: 1132\n"
     ]
    }
   ],
   "source": [
    "# All-Stars that didn't Attend a University\n",
    "all_stars_total_number = allstar_df.drop_duplicates('playerID').count()[\"playerID\"]\n",
    "all_stars_did_not_attend_university_number = all_stars_total_number - all_stars_attended_university_number\n",
    "print(\"Number of All Stars that did not attend a University: \" + str(all_stars_did_not_attend_university_number))"
   ]
  },
  {
   "cell_type": "markdown",
   "metadata": {},
   "source": [
    "From this we can see that there were more All Stars that did not attend a University, 1132 players, versus the amount of All Stars that did attend a University which is 642."
   ]
  },
  {
   "cell_type": "markdown",
   "metadata": {},
   "source": [
    "## Analysis of Total Salary Spend"
   ]
  },
  {
   "cell_type": "markdown",
   "metadata": {},
   "source": [
    "To start analyzing total spend on player salary, we will need to \"wrangle the data\" into a format that will allow us to perform our analysis.\n",
    "\n",
    "We'll be using the Salaries.csv file from (http://www.seanlahman.com/baseball-archive/statistics/)."
   ]
  },
  {
   "cell_type": "code",
   "execution_count": 11,
   "metadata": {
    "collapsed": false
   },
   "outputs": [
    {
     "data": {
      "text/html": [
       "<div>\n",
       "<style>\n",
       "    .dataframe thead tr:only-child th {\n",
       "        text-align: right;\n",
       "    }\n",
       "\n",
       "    .dataframe thead th {\n",
       "        text-align: left;\n",
       "    }\n",
       "\n",
       "    .dataframe tbody tr th {\n",
       "        vertical-align: top;\n",
       "    }\n",
       "</style>\n",
       "<table border=\"1\" class=\"dataframe\">\n",
       "  <thead>\n",
       "    <tr style=\"text-align: right;\">\n",
       "      <th></th>\n",
       "      <th>yearID</th>\n",
       "      <th>teamID</th>\n",
       "      <th>lgID</th>\n",
       "      <th>playerID</th>\n",
       "      <th>salary</th>\n",
       "    </tr>\n",
       "  </thead>\n",
       "  <tbody>\n",
       "    <tr>\n",
       "      <th>0</th>\n",
       "      <td>1985</td>\n",
       "      <td>ATL</td>\n",
       "      <td>NL</td>\n",
       "      <td>barkele01</td>\n",
       "      <td>870000</td>\n",
       "    </tr>\n",
       "    <tr>\n",
       "      <th>1</th>\n",
       "      <td>1985</td>\n",
       "      <td>ATL</td>\n",
       "      <td>NL</td>\n",
       "      <td>bedrost01</td>\n",
       "      <td>550000</td>\n",
       "    </tr>\n",
       "    <tr>\n",
       "      <th>2</th>\n",
       "      <td>1985</td>\n",
       "      <td>ATL</td>\n",
       "      <td>NL</td>\n",
       "      <td>benedbr01</td>\n",
       "      <td>545000</td>\n",
       "    </tr>\n",
       "    <tr>\n",
       "      <th>3</th>\n",
       "      <td>1985</td>\n",
       "      <td>ATL</td>\n",
       "      <td>NL</td>\n",
       "      <td>campri01</td>\n",
       "      <td>633333</td>\n",
       "    </tr>\n",
       "    <tr>\n",
       "      <th>4</th>\n",
       "      <td>1985</td>\n",
       "      <td>ATL</td>\n",
       "      <td>NL</td>\n",
       "      <td>ceronri01</td>\n",
       "      <td>625000</td>\n",
       "    </tr>\n",
       "  </tbody>\n",
       "</table>\n",
       "</div>"
      ],
      "text/plain": [
       "   yearID teamID lgID   playerID  salary\n",
       "0    1985    ATL   NL  barkele01  870000\n",
       "1    1985    ATL   NL  bedrost01  550000\n",
       "2    1985    ATL   NL  benedbr01  545000\n",
       "3    1985    ATL   NL   campri01  633333\n",
       "4    1985    ATL   NL  ceronri01  625000"
      ]
     },
     "execution_count": 11,
     "metadata": {},
     "output_type": "execute_result"
    }
   ],
   "source": [
    "# Read in Salaries CSV\n",
    "salaries_df = pd.read_csv('Salaries.csv')\n",
    "\n",
    "# Check to make sure the file is imported correctly\n",
    "salaries_df.head()"
   ]
  },
  {
   "cell_type": "code",
   "execution_count": 12,
   "metadata": {
    "collapsed": false
   },
   "outputs": [
    {
     "data": {
      "text/plain": [
       "yearID      0\n",
       "teamID      0\n",
       "lgID        0\n",
       "playerID    0\n",
       "salary      0\n",
       "dtype: int64"
      ]
     },
     "execution_count": 12,
     "metadata": {},
     "output_type": "execute_result"
    }
   ],
   "source": [
    "# Check to see if we need to do data cleaning\n",
    "salaries_df.isnull().sum()"
   ]
  },
  {
   "cell_type": "markdown",
   "metadata": {},
   "source": [
    "From looking at the data file, Salaries.csv the data we will be using of salary and yearID appears to be clean (0 null values), so we can continue on with the analysis.\n",
    "\n",
    "Now let's make a line chart of how Total Salary Spend has increased each year. This will give us a visual representation of the Salary data and maybe we can get some idea if Total Salary Spend is increasing or decreasing each year. To start we're going to need to group the Salary by Year. "
   ]
  },
  {
   "cell_type": "code",
   "execution_count": 13,
   "metadata": {
    "collapsed": false
   },
   "outputs": [
    {
     "data": {
      "text/plain": [
       "yearID\n",
       "1985    261964696\n",
       "1986    307854518\n",
       "1987    272575375\n",
       "1988    300452424\n",
       "1989    359995711\n",
       "Name: salary, dtype: int64"
      ]
     },
     "execution_count": 13,
     "metadata": {},
     "output_type": "execute_result"
    }
   ],
   "source": [
    "# Group Salaries By Year\n",
    "group_salaries_year_series = salaries_df.groupby('yearID').sum()['salary']\n",
    "\n",
    "# Check to see if the grouping worked\n",
    "group_salaries_year_series.head()"
   ]
  },
  {
   "cell_type": "markdown",
   "metadata": {},
   "source": [
    "Now let's create a line plot of the Salary Spend By Year to see the trend in Salary spending. "
   ]
  },
  {
   "cell_type": "code",
   "execution_count": 14,
   "metadata": {
    "collapsed": false
   },
   "outputs": [
    {
     "name": "stdout",
     "output_type": "stream",
     "text": [
      "Populating the interactive namespace from numpy and matplotlib\n"
     ]
    },
    {
     "data": {
      "text/plain": [
       "<matplotlib.text.Text at 0x114455c90>"
      ]
     },
     "execution_count": 14,
     "metadata": {},
     "output_type": "execute_result"
    },
    {
     "data": {
      "image/png": "[encoded data removed]",
      "text/plain": [
       "<matplotlib.figure.Figure at 0x110d87e10>"
      ]
     },
     "metadata": {},
     "output_type": "display_data"
    }
   ],
   "source": [
    "# Create Line Graph\n",
    "%pylab inline\n",
    "group_salaries_year_graph = group_salaries_year_series.plot(kind='line', ax=None, figsize=None, use_index=True, title='Total Baseball Salary Spend by Year', grid=None, legend=False, style=None, logx=False, logy=False, loglog=False, xticks=None, yticks=None, xlim=None, ylim=None, rot=None, fontsize=None, colormap=None, table=False, yerr=None, xerr=None, label=None, secondary_y=False)\n",
    "group_salaries_year_graph.set_xlabel('Year')\n",
    "group_salaries_year_graph.set_ylabel('Total Salary Spend')"
   ]
  },
  {
   "cell_type": "markdown",
   "metadata": {},
   "source": [
    "From looking at the graph, there appears to be a positive trend of Salary increasing each year. We can take a visual guess that if the trend continues total Salary spend in 2017 will be greater than 2016. \n",
    "\n",
    "However, it's important to note that while the overall trend is positive, there were a few years in the graph that had negative drops, so it would not be safe to assume, that the salary spend in 2017 will be greater.\n",
    "\n",
    "For further analysis we could fit regression models to the data to predict 2017 and on salary spend. That we'll save for an exploration outside of this project."
   ]
  },
  {
   "cell_type": "markdown",
   "metadata": {},
   "source": [
    "## Analysis of All-Star Salary Vs. Normal Player Salary"
   ]
  },
  {
   "cell_type": "markdown",
   "metadata": {},
   "source": [
    "Again, to start this analysis, we're going to need to do some data wrangling again, even though we've imported the two files necessary for this question in the previous analysis. To start we're first going to filter the Salaries Data Frame and the All Star Data Frame to only contain 2016 data, as 2016 is the year we chose to do this analysis."
   ]
  },
  {
   "cell_type": "code",
   "execution_count": 15,
   "metadata": {
    "collapsed": false
   },
   "outputs": [
    {
     "data": {
      "text/html": [
       "<div>\n",
       "<style>\n",
       "    .dataframe thead tr:only-child th {\n",
       "        text-align: right;\n",
       "    }\n",
       "\n",
       "    .dataframe thead th {\n",
       "        text-align: left;\n",
       "    }\n",
       "\n",
       "    .dataframe tbody tr th {\n",
       "        vertical-align: top;\n",
       "    }\n",
       "</style>\n",
       "<table border=\"1\" class=\"dataframe\">\n",
       "  <thead>\n",
       "    <tr style=\"text-align: right;\">\n",
       "      <th></th>\n",
       "      <th>yearID</th>\n",
       "      <th>teamID</th>\n",
       "      <th>lgID</th>\n",
       "      <th>playerID</th>\n",
       "      <th>salary</th>\n",
       "    </tr>\n",
       "  </thead>\n",
       "  <tbody>\n",
       "    <tr>\n",
       "      <th>25575</th>\n",
       "      <td>2016</td>\n",
       "      <td>ARI</td>\n",
       "      <td>NL</td>\n",
       "      <td>ahmedni01</td>\n",
       "      <td>521600</td>\n",
       "    </tr>\n",
       "    <tr>\n",
       "      <th>25576</th>\n",
       "      <td>2016</td>\n",
       "      <td>ARI</td>\n",
       "      <td>NL</td>\n",
       "      <td>barreja01</td>\n",
       "      <td>507500</td>\n",
       "    </tr>\n",
       "    <tr>\n",
       "      <th>25577</th>\n",
       "      <td>2016</td>\n",
       "      <td>ARI</td>\n",
       "      <td>NL</td>\n",
       "      <td>brachsi01</td>\n",
       "      <td>509300</td>\n",
       "    </tr>\n",
       "    <tr>\n",
       "      <th>25578</th>\n",
       "      <td>2016</td>\n",
       "      <td>ARI</td>\n",
       "      <td>NL</td>\n",
       "      <td>britoso01</td>\n",
       "      <td>508500</td>\n",
       "    </tr>\n",
       "    <tr>\n",
       "      <th>25579</th>\n",
       "      <td>2016</td>\n",
       "      <td>ARI</td>\n",
       "      <td>NL</td>\n",
       "      <td>castiwe01</td>\n",
       "      <td>3700000</td>\n",
       "    </tr>\n",
       "  </tbody>\n",
       "</table>\n",
       "</div>"
      ],
      "text/plain": [
       "       yearID teamID lgID   playerID   salary\n",
       "25575    2016    ARI   NL  ahmedni01   521600\n",
       "25576    2016    ARI   NL  barreja01   507500\n",
       "25577    2016    ARI   NL  brachsi01   509300\n",
       "25578    2016    ARI   NL  britoso01   508500\n",
       "25579    2016    ARI   NL  castiwe01  3700000"
      ]
     },
     "execution_count": 15,
     "metadata": {},
     "output_type": "execute_result"
    }
   ],
   "source": [
    "# Filter the salaries Data Frame to contain only 2016 data is below:\n",
    "salaries_2016_filter = salaries_df['yearID']==2016\n",
    "salaries_2016_df = salaries_df[salaries_2016_filter]\n",
    "\n",
    "# Check to see if we have the 2016 values\n",
    "salaries_2016_df.head()"
   ]
  },
  {
   "cell_type": "markdown",
   "metadata": {
    "collapsed": true
   },
   "source": [
    "Now we'll do the same thing with All Star Data Frame."
   ]
  },
  {
   "cell_type": "code",
   "execution_count": 16,
   "metadata": {
    "collapsed": false
   },
   "outputs": [
    {
     "data": {
      "text/html": [
       "<div>\n",
       "<style>\n",
       "    .dataframe thead tr:only-child th {\n",
       "        text-align: right;\n",
       "    }\n",
       "\n",
       "    .dataframe thead th {\n",
       "        text-align: left;\n",
       "    }\n",
       "\n",
       "    .dataframe tbody tr th {\n",
       "        vertical-align: top;\n",
       "    }\n",
       "</style>\n",
       "<table border=\"1\" class=\"dataframe\">\n",
       "  <thead>\n",
       "    <tr style=\"text-align: right;\">\n",
       "      <th></th>\n",
       "      <th>playerID</th>\n",
       "      <th>yearID</th>\n",
       "      <th>gameNum</th>\n",
       "      <th>gameID</th>\n",
       "      <th>teamID</th>\n",
       "      <th>lgID</th>\n",
       "      <th>GP</th>\n",
       "      <th>startingPos</th>\n",
       "    </tr>\n",
       "  </thead>\n",
       "  <tbody>\n",
       "    <tr>\n",
       "      <th>5069</th>\n",
       "      <td>altuvjo01</td>\n",
       "      <td>2016</td>\n",
       "      <td>0</td>\n",
       "      <td>ALS201607120</td>\n",
       "      <td>HOU</td>\n",
       "      <td>AL</td>\n",
       "      <td>1.0</td>\n",
       "      <td>4.0</td>\n",
       "    </tr>\n",
       "    <tr>\n",
       "      <th>5070</th>\n",
       "      <td>brachbr01</td>\n",
       "      <td>2016</td>\n",
       "      <td>0</td>\n",
       "      <td>ALS201607120</td>\n",
       "      <td>BAL</td>\n",
       "      <td>AL</td>\n",
       "      <td>0.0</td>\n",
       "      <td>NaN</td>\n",
       "    </tr>\n",
       "    <tr>\n",
       "      <th>5071</th>\n",
       "      <td>brittza01</td>\n",
       "      <td>2016</td>\n",
       "      <td>0</td>\n",
       "      <td>ALS201607120</td>\n",
       "      <td>BAL</td>\n",
       "      <td>AL</td>\n",
       "      <td>1.0</td>\n",
       "      <td>NaN</td>\n",
       "    </tr>\n",
       "    <tr>\n",
       "      <th>5072</th>\n",
       "      <td>bettsmo01</td>\n",
       "      <td>2016</td>\n",
       "      <td>0</td>\n",
       "      <td>ALS201607120</td>\n",
       "      <td>BOS</td>\n",
       "      <td>AL</td>\n",
       "      <td>1.0</td>\n",
       "      <td>9.0</td>\n",
       "    </tr>\n",
       "    <tr>\n",
       "      <th>5073</th>\n",
       "      <td>bogaexa01</td>\n",
       "      <td>2016</td>\n",
       "      <td>0</td>\n",
       "      <td>ALS201607120</td>\n",
       "      <td>BOS</td>\n",
       "      <td>AL</td>\n",
       "      <td>1.0</td>\n",
       "      <td>6.0</td>\n",
       "    </tr>\n",
       "  </tbody>\n",
       "</table>\n",
       "</div>"
      ],
      "text/plain": [
       "       playerID  yearID  gameNum        gameID teamID lgID   GP  startingPos\n",
       "5069  altuvjo01    2016        0  ALS201607120    HOU   AL  1.0          4.0\n",
       "5070  brachbr01    2016        0  ALS201607120    BAL   AL  0.0          NaN\n",
       "5071  brittza01    2016        0  ALS201607120    BAL   AL  1.0          NaN\n",
       "5072  bettsmo01    2016        0  ALS201607120    BOS   AL  1.0          9.0\n",
       "5073  bogaexa01    2016        0  ALS201607120    BOS   AL  1.0          6.0"
      ]
     },
     "execution_count": 16,
     "metadata": {},
     "output_type": "execute_result"
    }
   ],
   "source": [
    "# Filter Data\n",
    "allstar_2016_filter = allstar_df['yearID'] == 2016\n",
    "allstar_2016_df = allstar_df[allstar_2016_filter]\n",
    "\n",
    "#Check to see if we have the 2016 values\n",
    "allstar_2016_df.head()"
   ]
  },
  {
   "cell_type": "markdown",
   "metadata": {},
   "source": [
    "Now that we have the 2016 values for both the Salary Data Frame and the All Star Data Frame, we're going to join the two into one Data Frame so we can perform our analysis of finding the mean salary for All Stars."
   ]
  },
  {
   "cell_type": "code",
   "execution_count": 17,
   "metadata": {
    "collapsed": false
   },
   "outputs": [
    {
     "data": {
      "text/html": [
       "<div>\n",
       "<style>\n",
       "    .dataframe thead tr:only-child th {\n",
       "        text-align: right;\n",
       "    }\n",
       "\n",
       "    .dataframe thead th {\n",
       "        text-align: left;\n",
       "    }\n",
       "\n",
       "    .dataframe tbody tr th {\n",
       "        vertical-align: top;\n",
       "    }\n",
       "</style>\n",
       "<table border=\"1\" class=\"dataframe\">\n",
       "  <thead>\n",
       "    <tr style=\"text-align: right;\">\n",
       "      <th></th>\n",
       "      <th>playerID</th>\n",
       "      <th>yearID_x</th>\n",
       "      <th>gameNum</th>\n",
       "      <th>gameID</th>\n",
       "      <th>teamID_x</th>\n",
       "      <th>lgID_x</th>\n",
       "      <th>GP</th>\n",
       "      <th>startingPos</th>\n",
       "      <th>yearID_y</th>\n",
       "      <th>teamID_y</th>\n",
       "      <th>lgID_y</th>\n",
       "      <th>salary</th>\n",
       "    </tr>\n",
       "  </thead>\n",
       "  <tbody>\n",
       "    <tr>\n",
       "      <th>0</th>\n",
       "      <td>altuvjo01</td>\n",
       "      <td>2016</td>\n",
       "      <td>0</td>\n",
       "      <td>ALS201607120</td>\n",
       "      <td>HOU</td>\n",
       "      <td>AL</td>\n",
       "      <td>1.0</td>\n",
       "      <td>4.0</td>\n",
       "      <td>2016</td>\n",
       "      <td>HOU</td>\n",
       "      <td>AL</td>\n",
       "      <td>3687500</td>\n",
       "    </tr>\n",
       "    <tr>\n",
       "      <th>1</th>\n",
       "      <td>brachbr01</td>\n",
       "      <td>2016</td>\n",
       "      <td>0</td>\n",
       "      <td>ALS201607120</td>\n",
       "      <td>BAL</td>\n",
       "      <td>AL</td>\n",
       "      <td>0.0</td>\n",
       "      <td>NaN</td>\n",
       "      <td>2016</td>\n",
       "      <td>BAL</td>\n",
       "      <td>AL</td>\n",
       "      <td>1250000</td>\n",
       "    </tr>\n",
       "    <tr>\n",
       "      <th>2</th>\n",
       "      <td>brittza01</td>\n",
       "      <td>2016</td>\n",
       "      <td>0</td>\n",
       "      <td>ALS201607120</td>\n",
       "      <td>BAL</td>\n",
       "      <td>AL</td>\n",
       "      <td>1.0</td>\n",
       "      <td>NaN</td>\n",
       "      <td>2016</td>\n",
       "      <td>BAL</td>\n",
       "      <td>AL</td>\n",
       "      <td>6750000</td>\n",
       "    </tr>\n",
       "    <tr>\n",
       "      <th>3</th>\n",
       "      <td>bettsmo01</td>\n",
       "      <td>2016</td>\n",
       "      <td>0</td>\n",
       "      <td>ALS201607120</td>\n",
       "      <td>BOS</td>\n",
       "      <td>AL</td>\n",
       "      <td>1.0</td>\n",
       "      <td>9.0</td>\n",
       "      <td>2016</td>\n",
       "      <td>BOS</td>\n",
       "      <td>AL</td>\n",
       "      <td>566000</td>\n",
       "    </tr>\n",
       "    <tr>\n",
       "      <th>4</th>\n",
       "      <td>bogaexa01</td>\n",
       "      <td>2016</td>\n",
       "      <td>0</td>\n",
       "      <td>ALS201607120</td>\n",
       "      <td>BOS</td>\n",
       "      <td>AL</td>\n",
       "      <td>1.0</td>\n",
       "      <td>6.0</td>\n",
       "      <td>2016</td>\n",
       "      <td>BOS</td>\n",
       "      <td>AL</td>\n",
       "      <td>650000</td>\n",
       "    </tr>\n",
       "  </tbody>\n",
       "</table>\n",
       "</div>"
      ],
      "text/plain": [
       "    playerID  yearID_x  gameNum        gameID teamID_x lgID_x   GP  \\\n",
       "0  altuvjo01      2016        0  ALS201607120      HOU     AL  1.0   \n",
       "1  brachbr01      2016        0  ALS201607120      BAL     AL  0.0   \n",
       "2  brittza01      2016        0  ALS201607120      BAL     AL  1.0   \n",
       "3  bettsmo01      2016        0  ALS201607120      BOS     AL  1.0   \n",
       "4  bogaexa01      2016        0  ALS201607120      BOS     AL  1.0   \n",
       "\n",
       "   startingPos  yearID_y teamID_y lgID_y   salary  \n",
       "0          4.0      2016      HOU     AL  3687500  \n",
       "1          NaN      2016      BAL     AL  1250000  \n",
       "2          NaN      2016      BAL     AL  6750000  \n",
       "3          9.0      2016      BOS     AL   566000  \n",
       "4          6.0      2016      BOS     AL   650000  "
      ]
     },
     "execution_count": 17,
     "metadata": {},
     "output_type": "execute_result"
    }
   ],
   "source": [
    "# Join DataFrames\n",
    "allstar_salary_2016_df = allstar_2016_df.merge(salaries_2016_df, on='playerID',how='inner')\n",
    "allstar_salary_2016_df.head()"
   ]
  },
  {
   "cell_type": "markdown",
   "metadata": {
    "collapsed": true
   },
   "source": [
    "To answer this question we're going to want to compare the average salary of an All Star player in 2016, with the average salary of all players in 2016, and than compare those two numbers to see if there is a difference.\n",
    "\n",
    "So let's dive right in and calculate the average Salary of an All Star and the average salary of All Players."
   ]
  },
  {
   "cell_type": "code",
   "execution_count": 18,
   "metadata": {
    "collapsed": false
   },
   "outputs": [
    {
     "name": "stdout",
     "output_type": "stream",
     "text": [
      "All Star Mean Salary in 2016: $7827074.53247\n",
      "All Players Mean Salary in 2016: $4396409.60375\n"
     ]
    }
   ],
   "source": [
    "# All-Star Salary Mean\n",
    "allstar_salary_2016_mean = allstar_salary_2016_df.mean()['salary']\n",
    "all_salary_2016_mean = salaries_2016_df.mean()['salary']\n",
    "\n",
    "print('All Star Mean Salary in 2016: $' + str(allstar_salary_2016_mean))\n",
    "print('All Players Mean Salary in 2016: $' + str(all_salary_2016_mean))"
   ]
  },
  {
   "cell_type": "markdown",
   "metadata": {},
   "source": [
    "Now let's calculate the differences in the two averages."
   ]
  },
  {
   "cell_type": "code",
   "execution_count": 19,
   "metadata": {
    "collapsed": false
   },
   "outputs": [
    {
     "name": "stdout",
     "output_type": "stream",
     "text": [
      "Average Difference between Salaries: $3430664.92872\n"
     ]
    }
   ],
   "source": [
    "# Calculate Averages\n",
    "print('Average Difference between Salaries: $' + str(allstar_salary_2016_mean - all_salary_2016_mean))"
   ]
  },
  {
   "cell_type": "markdown",
   "metadata": {
    "collapsed": false
   },
   "source": [
    "The difference between the average salary of All-Stars and the average salary of all players in 2016 is $3,430,664. \n",
    "\n",
    "This seems prety staggering, and from the eye test it definitely looks like All Star players get paid more than the average player.\n",
    "\n",
    "For further analysis, creating a hypothesis test to understand if this difference is significant for us to be confident that All Stars get paid more than the average player would be a great follow up analysis. But again we'll save that analysis for outside of this project."
   ]
  },
  {
   "cell_type": "markdown",
   "metadata": {
    "collapsed": false
   },
   "source": [
    "## Data Limitiations\n",
    "Now that we've answered our questions, to end the project we need to briefly discuss some data limitations.\n",
    "\n",
    "1) The baseball historical data only spans back to 1985, however the National League was established in 1876, which gives us over 100 years of missing data that we didn't get to analyze. <br>\n",
    "\n",
    "2) It's important to note that the answers to the questions above only shows observations and do not go into causation. Causation is outside the scope of this Udacity course. For example, just because we see that USC was attended the most by All Stars, it would be to presemptious for us to conclude that attending USC causes MLB players to be All Stars. As another example, we see difference in the average All Star salary and the average salary of all MLB players, but we haven't done the analysis yet to understand if being an All Star causes a player to have a higher salary.\n",
    "\n",
    "Thanks for reading!"
   ]
  },
  {
   "cell_type": "code",
   "execution_count": null,
   "metadata": {
    "collapsed": true
   },
   "outputs": [],
   "source": []
  }
 ],
 "metadata": {
  "anaconda-cloud": {},
  "kernelspec": {
   "display_name": "Python [conda env:DAND]",
   "language": "python",
   "name": "conda-env-DAND-py"
  },
  "language_info": {
   "codemirror_mode": {
    "name": "ipython",
    "version": 2
   },
   "file_extension": ".py",
   "mimetype": "text/x-python",
   "name": "python",
   "nbconvert_exporter": "python",
   "pygments_lexer": "ipython2",
   "version": "2.7.13"
  }
 },
 "nbformat": 4,
 "nbformat_minor": 2
}
